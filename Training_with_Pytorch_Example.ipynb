{
 "cells": [
  {
   "cell_type": "code",
   "execution_count": 1,
   "metadata": {},
   "outputs": [],
   "source": [
    "import torch\n",
    "import torchvision\n",
    "import torchvision.transforms as transforms"
   ]
  },
  {
   "cell_type": "code",
   "execution_count": 6,
   "metadata": {},
   "outputs": [
    {
     "name": "stdout",
     "output_type": "stream",
     "text": [
      "Training set has 60000 instances\n",
      "Validation set has 10000 instances\n"
     ]
    }
   ],
   "source": [
    "# Pytorch Tenserboard Support\n",
    "import torch.utils.data.dataloader\n",
    "from torch.utils.tensorboard import SummaryWriter\n",
    "from datetime import datetime\n",
    "\n",
    "transform = transforms.Compose(\n",
    "    [transforms.ToTensor(),\n",
    "     transforms.Normalize((0.5), (0.5,))])\n",
    "\n",
    "#create datasets for training and validation, download if necessary\n",
    "training_set = torchvision.datasets.FashionMNIST('./data', train=True, transform=transform, download=True)\n",
    "validation_set = torchvision.datasets.FashionMNIST('./dataa', train=False, transform=transform, download=True)\n",
    "\n",
    "\n",
    "#create dataloaders for our datasets; shuffle for training, not for validation\n",
    "training_loader = torch.utils.data.DataLoader(training_set, batch_size = 4, shuffle = True)\n",
    "validation_loader = torch.utils.data.DataLoader(validation_set, batch_size=4, shuffle=False)\n",
    "\n",
    "# Class labels\n",
    "classes = ('T-shirt/top', 'Trouser', 'Pullover', 'Dress', 'Coat',\n",
    "        'Sandal', 'Shirt', 'Sneaker', 'Bag', 'Ankle Boot')\n",
    "\n",
    "#Report split sizes\n",
    "print('Training set has {} instances'.format(len(training_set)))\n",
    "print('Validation set has {} instances'.format(len(validation_set)))\n"
   ]
  },
  {
   "cell_type": "markdown",
   "metadata": {},
   "source": [
    "As always, let’s visualize the data as a sanity check:"
   ]
  },
  {
   "cell_type": "code",
   "execution_count": 12,
   "metadata": {},
   "outputs": [
    {
     "name": "stdout",
     "output_type": "stream",
     "text": [
      "Sneaker Sandal Coat Shirt\n"
     ]
    },
    {
     "data": {
      "image/png": "[encoded data removed]",
      "text/plain": [
       "<Figure size 640x480 with 1 Axes>"
      ]
     },
     "metadata": {},
     "output_type": "display_data"
    }
   ],
   "source": [
    "import matplotlib.pyplot as plt\n",
    "import numpy as np\n",
    "\n",
    "#Helper function for inline image display\n",
    "def matplotlib_imshow(img, one_channel=False):\n",
    "    if one_channel:\n",
    "        img= img.mean(dim=0)\n",
    "    img = img/2+0.5   #unnormalize\n",
    "    npimg = img.numpy()\n",
    "    if one_channel:\n",
    "        plt.imshow(npimg, cmap=\"Greys\")\n",
    "    else:\n",
    "        plt.imshow(np.transpose(npimg, (1, 2, 0)))\n",
    "\n",
    "detailer = iter(training_loader)\n",
    "images, labels = next(detailer)\n",
    "\n",
    "#create a grid from the images and show them\n",
    "img_grid = torchvision.utils.make_grid(images)\n",
    "matplotlib_imshow(img_grid, one_channel=True)\n",
    "print(' '.join(classes[labels[j]] for j in range(4)))"
   ]
  },
  {
   "cell_type": "markdown",
   "metadata": {},
   "source": [
    "### The Model"
   ]
  },
  {
   "cell_type": "code",
   "execution_count": 21,
   "metadata": {},
   "outputs": [],
   "source": [
    "import torch.nn as nn\n",
    "import torch.nn.functional as F\n",
    "\n",
    "#Pytorch models inherit from torch.nn.Module\n",
    "class GarmentClassifier(nn.Module):\n",
    "    def __init__(self):\n",
    "        super(GarmentClassifier, self).__init__()\n",
    "        self.conv1 = nn.Conv2d(1, 6, 5)\n",
    "        self.pool = nn.MaxPool2d(2, 2)\n",
    "        self.conv2 = nn.Conv2d(6, 16, 5)\n",
    "        self.fc1 = nn.Linear(16*4*4, 120)\n",
    "        self.fc2 = nn.Linear(120, 84)\n",
    "        self.fc3 = nn.Linear(84, 10)\n",
    "\n",
    "    def forward(self, x):\n",
    "        x = self.pool(F.relu(self.conv1(x)))\n",
    "        x = self.pool(F.relu(self.conv2(x)))\n",
    "        x = x.view(-1, 16 *4 * 4)\n",
    "        x = F.relu(self.fc1(x))\n",
    "        x = F.relu(self.fc2(x))\n",
    "        x = self.fc3(x)\n",
    "        return x\n",
    "model = GarmentClassifier()"
   ]
  },
  {
   "cell_type": "markdown",
   "metadata": {},
   "source": [
    "### Loss Function"
   ]
  },
  {
   "cell_type": "code",
   "execution_count": 22,
   "metadata": {},
   "outputs": [
    {
     "name": "stdout",
     "output_type": "stream",
     "text": [
      "tensor([[0.2076, 0.6399, 0.8416, 0.2964, 0.1458, 0.1150, 0.9934, 0.8930, 0.7573,\n",
      "         0.6555],\n",
      "        [0.8440, 0.9522, 0.5967, 0.2180, 0.0837, 0.1685, 0.8818, 0.3812, 0.4612,\n",
      "         0.9709],\n",
      "        [0.6581, 0.0516, 0.0851, 0.0961, 0.2059, 0.0849, 0.0902, 0.4396, 0.9937,\n",
      "         0.0161],\n",
      "        [0.2854, 0.4768, 0.7026, 0.7261, 0.5920, 0.7067, 0.3423, 0.1502, 0.1916,\n",
      "         0.8838]])\n",
      "tensor([1, 5, 3, 7])\n",
      "Total loss for this batch: 2.5565402507781982\n"
     ]
    }
   ],
   "source": [
    "loss_fn = torch.nn.CrossEntropyLoss()\n",
    "\n",
    "# NB: Loss functions expect data in batches, so we're creating batches of 4\n",
    "# Represents the model's confidence in each of the 10 classes for a given input\n",
    "dummy_outputs = torch.rand(4, 10)\n",
    "#Represents the correct class among the 10 being tested\n",
    "dummy_labels = torch.tensor([1, 5, 3, 7])\n",
    "print(dummy_outputs)\n",
    "print(dummy_labels)\n",
    "loss = loss_fn(dummy_outputs, dummy_labels)\n",
    "\n",
    "print('Total loss for this batch: {}'.format(loss.item()))"
   ]
  },
  {
   "cell_type": "markdown",
   "metadata": {},
   "source": [
    "### Optimizer"
   ]
  },
  {
   "cell_type": "code",
   "execution_count": 23,
   "metadata": {},
   "outputs": [],
   "source": [
    "# Optimization specified in the torch.optim package\n",
    "optimizer = torch.optim.SGD(model.parameters(), lr=0.001, momentum=0.9)"
   ]
  },
  {
   "cell_type": "markdown",
   "metadata": {},
   "source": [
    "### The Training Loop\n",
    "Below, we have a function that performs one training epoch. It enumerates data from the DataLoader, and on each pass of the loop does the following:\n",
    "\n",
    "Gets a batch of training data from the DataLoader\n",
    "\n",
    "Zeros the optimizer’s gradients\n",
    "\n",
    "Performs an inference - that is, gets predictions from the model for an input batch\n",
    "\n",
    "Calculates the loss for that set of predictions vs. the labels on the dataset\n",
    "\n",
    "Calculates the backward gradients over the learning weights\n",
    "\n",
    "Tells the optimizer to perform one learning step - that is, adjust the model’s learning weights based on the observed gradients for this batch, according to the optimization algorithm we chose\n",
    "\n",
    "It reports on the loss for every 1000 batches.\n",
    "\n",
    "Finally, it reports the average per-batch loss for the last 1000 batches, for comparison with a validation run"
   ]
  },
  {
   "cell_type": "code",
   "execution_count": 24,
   "metadata": {},
   "outputs": [],
   "source": [
    "def train_one_epoch(epoch_index, tb_writer):\n",
    "    running_loss = 0.\n",
    "    last_loss = 0.\n",
    "\n",
    "    # Here, we use enumerate(training_loader) instead of\n",
    "    # Iter(Training_loader) so that we can track the batch\n",
    "    #Index and do some intra-epoch reporting \n",
    "\n",
    "    for i, data in enumerate(training_loader):\n",
    "        #every data is is an input + label pair\n",
    "        inputs, labels = data\n",
    "\n",
    "        #zero your gradients for every batch!\n",
    "        optimizer.zero_grad()\n",
    "\n",
    "        #Make predictions for this batch\n",
    "        outputs = model(inputs)\n",
    "\n",
    "        #Compute the loss and its gradients\n",
    "        loss = loss_fn(outputs, labels)\n",
    "        loss.backward()\n",
    "\n",
    "        #Adjust learning weights\n",
    "        optimizer.step()\n",
    "\n",
    "        #Gather data and report\n",
    "        running_loss += loss.item()\n",
    "        if i %1000 == 999:\n",
    "            last_loss = running_loss/1000 #loss per batch\n",
    "            print(' batch{} loss: {}'.format(i + 1, last_loss))\n",
    "            tb_x = epoch_index * len(training_loader) + i + 1\n",
    "            running_loss = 0.\n",
    "    return last_loss\n"
   ]
  },
  {
   "cell_type": "markdown",
   "metadata": {},
   "source": [
    "### Per-Epoch Activity\n",
    "There are a couple of things we’ll want to do once per epoch:\n",
    "\n",
    "Perform validation by checking our relative loss on a set of data that was not used for training, and report this\n",
    "\n",
    "Save a copy of the model\n",
    "\n",
    "Here, we’ll do our reporting in TensorBoard. This will require going to the command line to start TensorBoard, and opening it in another browser tab."
   ]
  },
  {
   "cell_type": "code",
   "execution_count": 25,
   "metadata": {},
   "outputs": [
    {
     "name": "stdout",
     "output_type": "stream",
     "text": [
      "EPOCH 1\n",
      " batch1000 loss: 1.883994389563799\n",
      " batch2000 loss: 0.8737245868593454\n",
      " batch3000 loss: 0.756003662568517\n",
      " batch4000 loss: 0.6781213623033836\n",
      " batch5000 loss: 0.6272723501524888\n",
      " batch6000 loss: 0.5448964731117012\n",
      " batch7000 loss: 0.5549459713848773\n",
      " batch8000 loss: 0.5163643680645619\n",
      " batch9000 loss: 0.5094751833080955\n",
      " batch10000 loss: 0.49104775722988414\n",
      " batch11000 loss: 0.4566355167336296\n",
      " batch12000 loss: 0.4584247412083205\n",
      " batch13000 loss: 0.44875312033167575\n",
      " batch14000 loss: 0.42481225799256933\n",
      " batch15000 loss: 0.4339544474008726\n",
      "Loss train 0.4339544474008726 valid 0.430755615234375\n",
      "EPOCH 2\n",
      " batch1000 loss: 0.4170984802845705\n",
      " batch2000 loss: 0.4012206527462695\n",
      " batch3000 loss: 0.40811170847769246\n",
      " batch4000 loss: 0.3954157909740024\n",
      " batch5000 loss: 0.3649955371252436\n",
      " batch6000 loss: 0.36615988128610477\n",
      " batch7000 loss: 0.3743184544081814\n",
      " batch8000 loss: 0.3736810132546816\n",
      " batch9000 loss: 0.34524442106636705\n",
      " batch10000 loss: 0.3668479068452725\n",
      " batch11000 loss: 0.3738048459252168\n",
      " batch12000 loss: 0.35126760976864896\n",
      " batch13000 loss: 0.37199021090974566\n",
      " batch14000 loss: 0.34891990767390235\n",
      " batch15000 loss: 0.35519853968534154\n",
      "Loss train 0.35519853968534154 valid 0.3653008043766022\n",
      "EPOCH 3\n",
      " batch1000 loss: 0.33609098457505754\n",
      " batch2000 loss: 0.33694086927064926\n",
      " batch3000 loss: 0.3210990854319534\n",
      " batch4000 loss: 0.33241762977030886\n",
      " batch5000 loss: 0.31976080817068125\n",
      " batch6000 loss: 0.32040152572662917\n",
      " batch7000 loss: 0.33374254446355917\n",
      " batch8000 loss: 0.3287223689936218\n",
      " batch9000 loss: 0.32058709148285564\n",
      " batch10000 loss: 0.31618763767767816\n",
      " batch11000 loss: 0.31444351951027055\n",
      " batch12000 loss: 0.3172890870983101\n",
      " batch13000 loss: 0.32658311551756924\n",
      " batch14000 loss: 0.31666228668631813\n",
      " batch15000 loss: 0.33693434103910114\n",
      "Loss train 0.33693434103910114 valid 0.3404751718044281\n",
      "EPOCH 4\n",
      " batch1000 loss: 0.2999081627957918\n",
      " batch2000 loss: 0.2971946947616307\n",
      " batch3000 loss: 0.27039501493369605\n",
      " batch4000 loss: 0.29700829299134784\n",
      " batch5000 loss: 0.31839051172180916\n",
      " batch6000 loss: 0.3205566498552653\n",
      " batch7000 loss: 0.28412969358685225\n",
      " batch8000 loss: 0.29172840001459915\n",
      " batch9000 loss: 0.2904375946647633\n",
      " batch10000 loss: 0.3008875095842668\n",
      " batch11000 loss: 0.3032179987501804\n",
      " batch12000 loss: 0.3039655649954984\n",
      " batch13000 loss: 0.30806991276026385\n",
      " batch14000 loss: 0.3038200471192358\n",
      " batch15000 loss: 0.2828353858781047\n",
      "Loss train 0.2828353858781047 valid 0.3283025324344635\n",
      "EPOCH 5\n",
      " batch1000 loss: 0.2916609142145244\n",
      " batch2000 loss: 0.27753715091878983\n",
      " batch3000 loss: 0.2904869384194535\n",
      " batch4000 loss: 0.28279540247886326\n",
      " batch5000 loss: 0.28592642536172935\n",
      " batch6000 loss: 0.2691072018860068\n",
      " batch7000 loss: 0.2741265808100413\n",
      " batch8000 loss: 0.28575944936698217\n",
      " batch9000 loss: 0.2849042653970391\n",
      " batch10000 loss: 0.2757873137871065\n",
      " batch11000 loss: 0.2863803068238849\n",
      " batch12000 loss: 0.27631380130370237\n",
      " batch13000 loss: 0.26576461532677603\n",
      " batch14000 loss: 0.2832840205928915\n",
      " batch15000 loss: 0.2860559259850197\n",
      "Loss train 0.2860559259850197 valid 0.30062130093574524\n"
     ]
    }
   ],
   "source": [
    "# Initializing in a separate cell so we can easily add more epochs to the same run\n",
    "timestampt = datetime.now().strftime('%y%m%d_%H%M%S')\n",
    "writer = SummaryWriter('runs/fashion_trainer_{}'.format(timestampt))\n",
    "epoch_number = 0\n",
    "EPOCHS = 5\n",
    "\n",
    "best_vloss = 1_000_000.\n",
    "\n",
    "for epoch in range(EPOCHS):\n",
    "    print('EPOCH {}'.format(epoch_number + 1))\n",
    "\n",
    "    #Make sure gradient tracking is on, and do a pass over the data \n",
    "    model.train(True)\n",
    "    avg_loss = train_one_epoch(epoch_number, writer)\n",
    "\n",
    "    running_vloss = 0.0\n",
    "\n",
    "    #set the model to evaluation mode, disabling dropout and using population\n",
    "    # staistics for batch normalization\n",
    "    model.eval()\n",
    "\n",
    "    # Disable gradient computation and reduce memory consumption.\n",
    "    with torch.no_grad():\n",
    "        for i, vdata in enumerate(validation_loader):\n",
    "            vinputs, vlabels= vdata\n",
    "            voutputs = model(vinputs)\n",
    "            vloss = loss_fn(voutputs, vlabels)\n",
    "            running_vloss += vloss\n",
    "\n",
    "    avg_vloss = running_vloss/(i + 1)\n",
    "    print('Loss train {} valid {}'.format(avg_loss, avg_vloss))\n",
    "\n",
    "    # log the running loss averaged per batch\n",
    "    # for both training and validation\n",
    "\n",
    "    writer.add_scalars('Training vs. Validation Loss', \n",
    "                       {'Training' : avg_loss, 'Validation' : avg_vloss},\n",
    "                       epoch_number + 1)\n",
    "    writer.flush()\n",
    "\n",
    "    #track best performance and save the model's state \n",
    "    if avg_vloss < best_vloss:\n",
    "        best_vloss = avg_vloss\n",
    "        model_path = 'model_{}_{}'.format(timestampt, epoch_number)\n",
    "        torch.save(model.state_dict(), model_path)\n",
    "\n",
    "    epoch_number += 1"
   ]
  }
 ],
 "metadata": {
  "kernelspec": {
   "display_name": "base",
   "language": "python",
   "name": "python3"
  },
  "language_info": {
   "codemirror_mode": {
    "name": "ipython",
    "version": 3
   },
   "file_extension": ".py",
   "mimetype": "text/x-python",
   "name": "python",
   "nbconvert_exporter": "python",
   "pygments_lexer": "ipython3",
   "version": "3.12.4"
  }
 },
 "nbformat": 4,
 "nbformat_minor": 2
}
